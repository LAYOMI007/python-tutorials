{
 "cells": [
  {
   "cell_type": "code",
   "execution_count": 8,
   "id": "a6a55fad-bae1-4584-a817-18bfd9ffc69c",
   "metadata": {},
   "outputs": [],
   "source": [
    "import numpy as np\n",
    "import pandas as pd\n",
    "import matplotlib.pyplot as plt\n",
    "import seaborn as sns"
   ]
  },
  {
   "cell_type": "code",
   "execution_count": 9,
   "id": "5a7363d5-5047-4223-ab1b-d2fca28d13b4",
   "metadata": {},
   "outputs": [],
   "source": [
    "df=pd.read_csv(r\"C:\\Users\\DELL\\Desktop\\PYTHON\\DATASET\\Salaries.csv\")"
   ]
  },
  {
   "cell_type": "code",
   "execution_count": null,
   "id": "41643675-fb4a-4176-b0ef-4066da472dfc",
   "metadata": {},
   "outputs": [
    {
     "data": {
      "text/html": [
       "<div>\n",
       "<style scoped>\n",
       "    .dataframe tbody tr th:only-of-type {\n",
       "        vertical-align: middle;\n",
       "    }\n",
       "\n",
       "    .dataframe tbody tr th {\n",
       "        vertical-align: top;\n",
       "    }\n",
       "\n",
       "    .dataframe thead th {\n",
       "        text-align: right;\n",
       "    }\n",
       "</style>\n",
       "<table border=\"1\" class=\"dataframe\">\n",
       "  <thead>\n",
       "    <tr style=\"text-align: right;\">\n",
       "      <th></th>\n",
       "      <th>Id</th>\n",
       "      <th>EmployeeName</th>\n",
       "      <th>JobTitle</th>\n",
       "      <th>BasePay</th>\n",
       "      <th>OvertimePay</th>\n",
       "      <th>OtherPay</th>\n",
       "      <th>Benefits</th>\n",
       "      <th>TotalPay</th>\n",
       "      <th>TotalPayBenefits</th>\n",
       "      <th>Year</th>\n",
       "      <th>Notes</th>\n",
       "      <th>Agency</th>\n",
       "      <th>Status</th>\n",
       "    </tr>\n",
       "  </thead>\n",
       "  <tbody>\n",
       "    <tr>\n",
       "      <th>148644</th>\n",
       "      <td>148645</td>\n",
       "      <td>Randy D Winn</td>\n",
       "      <td>Stationary Eng, Sewage Plant</td>\n",
       "      <td>0.0</td>\n",
       "      <td>0.0</td>\n",
       "      <td>0.00</td>\n",
       "      <td>0.0</td>\n",
       "      <td>0.00</td>\n",
       "      <td>0.00</td>\n",
       "      <td>2014</td>\n",
       "      <td>NaN</td>\n",
       "      <td>San Francisco</td>\n",
       "      <td>NaN</td>\n",
       "    </tr>\n",
       "    <tr>\n",
       "      <th>148645</th>\n",
       "      <td>148646</td>\n",
       "      <td>Carolyn A Wilson</td>\n",
       "      <td>Human Services Technician</td>\n",
       "      <td>0.0</td>\n",
       "      <td>0.0</td>\n",
       "      <td>0.00</td>\n",
       "      <td>0.0</td>\n",
       "      <td>0.00</td>\n",
       "      <td>0.00</td>\n",
       "      <td>2014</td>\n",
       "      <td>NaN</td>\n",
       "      <td>San Francisco</td>\n",
       "      <td>NaN</td>\n",
       "    </tr>\n",
       "    <tr>\n",
       "      <th>148646</th>\n",
       "      <td>148647</td>\n",
       "      <td>Not provided</td>\n",
       "      <td>Not provided</td>\n",
       "      <td>NaN</td>\n",
       "      <td>NaN</td>\n",
       "      <td>NaN</td>\n",
       "      <td>NaN</td>\n",
       "      <td>0.00</td>\n",
       "      <td>0.00</td>\n",
       "      <td>2014</td>\n",
       "      <td>NaN</td>\n",
       "      <td>San Francisco</td>\n",
       "      <td>NaN</td>\n",
       "    </tr>\n",
       "    <tr>\n",
       "      <th>148647</th>\n",
       "      <td>148648</td>\n",
       "      <td>Joann Anderson</td>\n",
       "      <td>Communications Dispatcher 2</td>\n",
       "      <td>0.0</td>\n",
       "      <td>0.0</td>\n",
       "      <td>0.00</td>\n",
       "      <td>0.0</td>\n",
       "      <td>0.00</td>\n",
       "      <td>0.00</td>\n",
       "      <td>2014</td>\n",
       "      <td>NaN</td>\n",
       "      <td>San Francisco</td>\n",
       "      <td>NaN</td>\n",
       "    </tr>\n",
       "    <tr>\n",
       "      <th>148648</th>\n",
       "      <td>148649</td>\n",
       "      <td>Leon Walker</td>\n",
       "      <td>Custodian</td>\n",
       "      <td>0.0</td>\n",
       "      <td>0.0</td>\n",
       "      <td>0.00</td>\n",
       "      <td>0.0</td>\n",
       "      <td>0.00</td>\n",
       "      <td>0.00</td>\n",
       "      <td>2014</td>\n",
       "      <td>NaN</td>\n",
       "      <td>San Francisco</td>\n",
       "      <td>NaN</td>\n",
       "    </tr>\n",
       "    <tr>\n",
       "      <th>148649</th>\n",
       "      <td>148650</td>\n",
       "      <td>Roy I Tillery</td>\n",
       "      <td>Custodian</td>\n",
       "      <td>0.0</td>\n",
       "      <td>0.0</td>\n",
       "      <td>0.00</td>\n",
       "      <td>0.0</td>\n",
       "      <td>0.00</td>\n",
       "      <td>0.00</td>\n",
       "      <td>2014</td>\n",
       "      <td>NaN</td>\n",
       "      <td>San Francisco</td>\n",
       "      <td>NaN</td>\n",
       "    </tr>\n",
       "    <tr>\n",
       "      <th>148650</th>\n",
       "      <td>148651</td>\n",
       "      <td>Not provided</td>\n",
       "      <td>Not provided</td>\n",
       "      <td>NaN</td>\n",
       "      <td>NaN</td>\n",
       "      <td>NaN</td>\n",
       "      <td>NaN</td>\n",
       "      <td>0.00</td>\n",
       "      <td>0.00</td>\n",
       "      <td>2014</td>\n",
       "      <td>NaN</td>\n",
       "      <td>San Francisco</td>\n",
       "      <td>NaN</td>\n",
       "    </tr>\n",
       "    <tr>\n",
       "      <th>148651</th>\n",
       "      <td>148652</td>\n",
       "      <td>Not provided</td>\n",
       "      <td>Not provided</td>\n",
       "      <td>NaN</td>\n",
       "      <td>NaN</td>\n",
       "      <td>NaN</td>\n",
       "      <td>NaN</td>\n",
       "      <td>0.00</td>\n",
       "      <td>0.00</td>\n",
       "      <td>2014</td>\n",
       "      <td>NaN</td>\n",
       "      <td>San Francisco</td>\n",
       "      <td>NaN</td>\n",
       "    </tr>\n",
       "    <tr>\n",
       "      <th>148652</th>\n",
       "      <td>148653</td>\n",
       "      <td>Not provided</td>\n",
       "      <td>Not provided</td>\n",
       "      <td>NaN</td>\n",
       "      <td>NaN</td>\n",
       "      <td>NaN</td>\n",
       "      <td>NaN</td>\n",
       "      <td>0.00</td>\n",
       "      <td>0.00</td>\n",
       "      <td>2014</td>\n",
       "      <td>NaN</td>\n",
       "      <td>San Francisco</td>\n",
       "      <td>NaN</td>\n",
       "    </tr>\n",
       "    <tr>\n",
       "      <th>148653</th>\n",
       "      <td>148654</td>\n",
       "      <td>Joe Lopez</td>\n",
       "      <td>Counselor, Log Cabin Ranch</td>\n",
       "      <td>0.0</td>\n",
       "      <td>0.0</td>\n",
       "      <td>-618.13</td>\n",
       "      <td>0.0</td>\n",
       "      <td>-618.13</td>\n",
       "      <td>-618.13</td>\n",
       "      <td>2014</td>\n",
       "      <td>NaN</td>\n",
       "      <td>San Francisco</td>\n",
       "      <td>NaN</td>\n",
       "    </tr>\n",
       "  </tbody>\n",
       "</table>\n",
       "</div>"
      ],
      "text/plain": [
       "            Id      EmployeeName                      JobTitle  BasePay  \\\n",
       "148644  148645      Randy D Winn  Stationary Eng, Sewage Plant      0.0   \n",
       "148645  148646  Carolyn A Wilson     Human Services Technician      0.0   \n",
       "148646  148647      Not provided                  Not provided      NaN   \n",
       "148647  148648    Joann Anderson   Communications Dispatcher 2      0.0   \n",
       "148648  148649       Leon Walker                     Custodian      0.0   \n",
       "148649  148650     Roy I Tillery                     Custodian      0.0   \n",
       "148650  148651      Not provided                  Not provided      NaN   \n",
       "148651  148652      Not provided                  Not provided      NaN   \n",
       "148652  148653      Not provided                  Not provided      NaN   \n",
       "148653  148654         Joe Lopez    Counselor, Log Cabin Ranch      0.0   \n",
       "\n",
       "        OvertimePay  OtherPay  Benefits  TotalPay  TotalPayBenefits  Year  \\\n",
       "148644          0.0      0.00       0.0      0.00              0.00  2014   \n",
       "148645          0.0      0.00       0.0      0.00              0.00  2014   \n",
       "148646          NaN       NaN       NaN      0.00              0.00  2014   \n",
       "148647          0.0      0.00       0.0      0.00              0.00  2014   \n",
       "148648          0.0      0.00       0.0      0.00              0.00  2014   \n",
       "148649          0.0      0.00       0.0      0.00              0.00  2014   \n",
       "148650          NaN       NaN       NaN      0.00              0.00  2014   \n",
       "148651          NaN       NaN       NaN      0.00              0.00  2014   \n",
       "148652          NaN       NaN       NaN      0.00              0.00  2014   \n",
       "148653          0.0   -618.13       0.0   -618.13           -618.13  2014   \n",
       "\n",
       "        Notes         Agency  Status  \n",
       "148644    NaN  San Francisco     NaN  \n",
       "148645    NaN  San Francisco     NaN  \n",
       "148646    NaN  San Francisco     NaN  \n",
       "148647    NaN  San Francisco     NaN  \n",
       "148648    NaN  San Francisco     NaN  \n",
       "148649    NaN  San Francisco     NaN  \n",
       "148650    NaN  San Francisco     NaN  \n",
       "148651    NaN  San Francisco     NaN  \n",
       "148652    NaN  San Francisco     NaN  \n",
       "148653    NaN  San Francisco     NaN  "
      ]
     },
     "execution_count": 5,
     "metadata": {},
     "output_type": "execute_result"
    }
   ],
   "source": [
    "df.tail(10)"
   ]
  },
  {
   "cell_type": "code",
   "execution_count": null,
   "id": "be6619b1-7e12-4606-ae32-e26dc96c294f",
   "metadata": {},
   "outputs": [],
   "source": [
    "df=df.dropna()"
   ]
  },
  {
   "cell_type": "code",
   "execution_count": null,
   "id": "7f41f28a-1d67-435f-97bb-8224f37d42a0",
   "metadata": {},
   "outputs": [
    {
     "data": {
      "text/plain": [
       "Id                  0\n",
       "EmployeeName        0\n",
       "JobTitle            0\n",
       "BasePay             0\n",
       "OvertimePay         0\n",
       "OtherPay            0\n",
       "Benefits            0\n",
       "TotalPay            0\n",
       "TotalPayBenefits    0\n",
       "Year                0\n",
       "Notes               0\n",
       "Agency              0\n",
       "Status              0\n",
       "dtype: int64"
      ]
     },
     "execution_count": 8,
     "metadata": {},
     "output_type": "execute_result"
    }
   ],
   "source": [
    "df.isnull().sum()"
   ]
  },
  {
   "cell_type": "code",
   "execution_count": null,
   "id": "cf21c4ec-e00f-48f1-9e6f-78c2e6c00692",
   "metadata": {},
   "outputs": [
    {
     "data": {
      "text/plain": [
       "Index(['Id', 'EmployeeName', 'JobTitle', 'BasePay', 'OvertimePay', 'OtherPay',\n",
       "       'Benefits', 'TotalPay', 'TotalPayBenefits', 'Year', 'Notes', 'Agency',\n",
       "       'Status'],\n",
       "      dtype='object')"
      ]
     },
     "execution_count": 12,
     "metadata": {},
     "output_type": "execute_result"
    }
   ],
   "source": [
    "df.columns"
   ]
  },
  {
   "cell_type": "code",
   "execution_count": null,
   "id": "387c0de2-5b3e-45c3-b13d-c62471234c9b",
   "metadata": {},
   "outputs": [],
   "source": [
    "name_counts = df['EmployeeName'].value_counts()"
   ]
  },
  {
   "cell_type": "code",
   "execution_count": null,
   "id": "df9bbae5-621c-4789-b234-10b3d74ce0ac",
   "metadata": {},
   "outputs": [],
   "source": [
    "top_5_names = name_counts.head(5)"
   ]
  },
  {
   "cell_type": "code",
   "execution_count": null,
   "id": "cb938a89-34a7-471d-952d-2a004cc51ebc",
   "metadata": {},
   "outputs": [
    {
     "name": "stdout",
     "output_type": "stream",
     "text": [
      "EmployeeName\n",
      "Kevin Lee       13\n",
      "Richard Lee     11\n",
      "Steven Lee      11\n",
      "William Wong    11\n",
      "Stanley Lee      9\n",
      "Name: count, dtype: int64\n"
     ]
    }
   ],
   "source": [
    "print(top_5_names)"
   ]
  },
  {
   "cell_type": "code",
   "execution_count": null,
   "id": "322ec404-e57e-4b97-badf-61391e9b4ed5",
   "metadata": {},
   "outputs": [
    {
     "name": "stdout",
     "output_type": "stream",
     "text": [
      "Top 5 employee names with their occurrence counts:\n",
      "EmployeeName\n",
      "Kevin Lee       13\n",
      "Richard Lee     11\n",
      "Steven Lee      11\n",
      "William Wong    11\n",
      "Stanley Lee      9\n",
      "Name: count, dtype: int64\n"
     ]
    }
   ],
   "source": [
    "print(\"Top 5 employee names with their occurrence counts:\")\n",
    "print(top_5_names)"
   ]
  },
  {
   "cell_type": "code",
   "execution_count": null,
   "id": "6e24da14-4ff4-4b6a-9cdd-b161ddd1d866",
   "metadata": {},
   "outputs": [],
   "source": [
    " unique_job_titles_count = df['JobTitle'].nunique()"
   ]
  },
  {
   "cell_type": "code",
   "execution_count": null,
   "id": "c64827d9-83d1-49ba-8661-0ff4d43e031d",
   "metadata": {},
   "outputs": [
    {
     "name": "stdout",
     "output_type": "stream",
     "text": [
      "The number of unique job titles is: 2159\n"
     ]
    }
   ],
   "source": [
    "print(f\"The number of unique job titles is: {unique_job_titles_count}\")"
   ]
  },
  {
   "cell_type": "code",
   "execution_count": null,
   "id": "a817cf13-21a7-435d-b692-ad8700154f68",
   "metadata": {},
   "outputs": [],
   "source": [
    "captain_titles = [df['JobTitle'].str.contains('captain', case=False, na=False)]"
   ]
  },
  {
   "cell_type": "code",
   "execution_count": null,
   "id": "da176525-db7f-4a61-9283-1093a609646c",
   "metadata": {},
   "outputs": [],
   "source": [
    "captain_titles = df[df['JobTitle'].str.contains('captain', case=False, na=False)]"
   ]
  },
  {
   "cell_type": "code",
   "execution_count": null,
   "id": "659bfef4-7ab8-40ab-8723-e9f98b3604fd",
   "metadata": {},
   "outputs": [],
   "source": [
    "captain_titles_count = captain_titles.shape[0]"
   ]
  },
  {
   "cell_type": "code",
   "execution_count": null,
   "id": "fa0a0454-4fde-4b7b-9655-abd860df7dd7",
   "metadata": {},
   "outputs": [
    {
     "name": "stdout",
     "output_type": "stream",
     "text": [
      "The total number of job titles containing 'captain' is: 552\n"
     ]
    }
   ],
   "source": [
    "print(f\"The total number of job titles containing 'captain' is: {captain_titles_count}\")"
   ]
  },
  {
   "cell_type": "code",
   "execution_count": null,
   "id": "59fa7c5d-5000-41c2-a432-7c89d078e16d",
   "metadata": {},
   "outputs": [
    {
     "data": {
      "text/html": [
       "<div>\n",
       "<style scoped>\n",
       "    .dataframe tbody tr th:only-of-type {\n",
       "        vertical-align: middle;\n",
       "    }\n",
       "\n",
       "    .dataframe tbody tr th {\n",
       "        vertical-align: top;\n",
       "    }\n",
       "\n",
       "    .dataframe thead th {\n",
       "        text-align: right;\n",
       "    }\n",
       "</style>\n",
       "<table border=\"1\" class=\"dataframe\">\n",
       "  <thead>\n",
       "    <tr style=\"text-align: right;\">\n",
       "      <th></th>\n",
       "      <th>Id</th>\n",
       "      <th>EmployeeName</th>\n",
       "      <th>JobTitle</th>\n",
       "      <th>BasePay</th>\n",
       "      <th>OvertimePay</th>\n",
       "      <th>OtherPay</th>\n",
       "      <th>Benefits</th>\n",
       "      <th>TotalPay</th>\n",
       "      <th>TotalPayBenefits</th>\n",
       "      <th>Year</th>\n",
       "      <th>Notes</th>\n",
       "      <th>Agency</th>\n",
       "      <th>Status</th>\n",
       "    </tr>\n",
       "  </thead>\n",
       "  <tbody>\n",
       "    <tr>\n",
       "      <th>1</th>\n",
       "      <td>2</td>\n",
       "      <td>GARY JIMENEZ</td>\n",
       "      <td>CAPTAIN III (POLICE DEPARTMENT)</td>\n",
       "      <td>155966.02</td>\n",
       "      <td>245131.88</td>\n",
       "      <td>137811.38</td>\n",
       "      <td>NaN</td>\n",
       "      <td>538909.28</td>\n",
       "      <td>538909.28</td>\n",
       "      <td>2011</td>\n",
       "      <td>NaN</td>\n",
       "      <td>San Francisco</td>\n",
       "      <td>NaN</td>\n",
       "    </tr>\n",
       "    <tr>\n",
       "      <th>2</th>\n",
       "      <td>3</td>\n",
       "      <td>ALBERT PARDINI</td>\n",
       "      <td>CAPTAIN III (POLICE DEPARTMENT)</td>\n",
       "      <td>212739.13</td>\n",
       "      <td>106088.18</td>\n",
       "      <td>16452.60</td>\n",
       "      <td>NaN</td>\n",
       "      <td>335279.91</td>\n",
       "      <td>335279.91</td>\n",
       "      <td>2011</td>\n",
       "      <td>NaN</td>\n",
       "      <td>San Francisco</td>\n",
       "      <td>NaN</td>\n",
       "    </tr>\n",
       "    <tr>\n",
       "      <th>11</th>\n",
       "      <td>12</td>\n",
       "      <td>PATRICIA JACKSON</td>\n",
       "      <td>CAPTAIN III (POLICE DEPARTMENT)</td>\n",
       "      <td>99722.00</td>\n",
       "      <td>87082.62</td>\n",
       "      <td>110804.30</td>\n",
       "      <td>NaN</td>\n",
       "      <td>297608.92</td>\n",
       "      <td>297608.92</td>\n",
       "      <td>2011</td>\n",
       "      <td>NaN</td>\n",
       "      <td>San Francisco</td>\n",
       "      <td>NaN</td>\n",
       "    </tr>\n",
       "    <tr>\n",
       "      <th>17</th>\n",
       "      <td>18</td>\n",
       "      <td>SEBASTIAN WONG</td>\n",
       "      <td>CAPTAIN, EMERGENCYCY MEDICAL SERVICES</td>\n",
       "      <td>140546.87</td>\n",
       "      <td>119397.26</td>\n",
       "      <td>18625.08</td>\n",
       "      <td>NaN</td>\n",
       "      <td>278569.21</td>\n",
       "      <td>278569.21</td>\n",
       "      <td>2011</td>\n",
       "      <td>NaN</td>\n",
       "      <td>San Francisco</td>\n",
       "      <td>NaN</td>\n",
       "    </tr>\n",
       "    <tr>\n",
       "      <th>22</th>\n",
       "      <td>23</td>\n",
       "      <td>GEORGE GARCIA</td>\n",
       "      <td>CAPTAIN, FIRE SUPPRESSION</td>\n",
       "      <td>140546.88</td>\n",
       "      <td>93200.58</td>\n",
       "      <td>39955.25</td>\n",
       "      <td>NaN</td>\n",
       "      <td>273702.71</td>\n",
       "      <td>273702.71</td>\n",
       "      <td>2011</td>\n",
       "      <td>NaN</td>\n",
       "      <td>San Francisco</td>\n",
       "      <td>NaN</td>\n",
       "    </tr>\n",
       "    <tr>\n",
       "      <th>...</th>\n",
       "      <td>...</td>\n",
       "      <td>...</td>\n",
       "      <td>...</td>\n",
       "      <td>...</td>\n",
       "      <td>...</td>\n",
       "      <td>...</td>\n",
       "      <td>...</td>\n",
       "      <td>...</td>\n",
       "      <td>...</td>\n",
       "      <td>...</td>\n",
       "      <td>...</td>\n",
       "      <td>...</td>\n",
       "      <td>...</td>\n",
       "    </tr>\n",
       "    <tr>\n",
       "      <th>116604</th>\n",
       "      <td>116605</td>\n",
       "      <td>Gregory L Stewart</td>\n",
       "      <td>Captain, Fire Suppression</td>\n",
       "      <td>73355.21</td>\n",
       "      <td>18517.18</td>\n",
       "      <td>49917.73</td>\n",
       "      <td>25608.77</td>\n",
       "      <td>141790.12</td>\n",
       "      <td>167398.89</td>\n",
       "      <td>2014</td>\n",
       "      <td>NaN</td>\n",
       "      <td>San Francisco</td>\n",
       "      <td>NaN</td>\n",
       "    </tr>\n",
       "    <tr>\n",
       "      <th>120867</th>\n",
       "      <td>120868</td>\n",
       "      <td>Michael J Moran</td>\n",
       "      <td>Captain 3</td>\n",
       "      <td>7660.00</td>\n",
       "      <td>1496.09</td>\n",
       "      <td>126560.36</td>\n",
       "      <td>2189.51</td>\n",
       "      <td>135716.45</td>\n",
       "      <td>137905.96</td>\n",
       "      <td>2014</td>\n",
       "      <td>NaN</td>\n",
       "      <td>San Francisco</td>\n",
       "      <td>NaN</td>\n",
       "    </tr>\n",
       "    <tr>\n",
       "      <th>122361</th>\n",
       "      <td>122362</td>\n",
       "      <td>Michael V Rolovich</td>\n",
       "      <td>Captain, Fire Suppression</td>\n",
       "      <td>0.00</td>\n",
       "      <td>0.00</td>\n",
       "      <td>130320.75</td>\n",
       "      <td>0.00</td>\n",
       "      <td>130320.75</td>\n",
       "      <td>130320.75</td>\n",
       "      <td>2014</td>\n",
       "      <td>NaN</td>\n",
       "      <td>San Francisco</td>\n",
       "      <td>NaN</td>\n",
       "    </tr>\n",
       "    <tr>\n",
       "      <th>126588</th>\n",
       "      <td>126589</td>\n",
       "      <td>Stephen M Tittel</td>\n",
       "      <td>Captain 3</td>\n",
       "      <td>68491.89</td>\n",
       "      <td>0.00</td>\n",
       "      <td>23721.91</td>\n",
       "      <td>19020.79</td>\n",
       "      <td>92213.80</td>\n",
       "      <td>111234.59</td>\n",
       "      <td>2014</td>\n",
       "      <td>NaN</td>\n",
       "      <td>San Francisco</td>\n",
       "      <td>NaN</td>\n",
       "    </tr>\n",
       "    <tr>\n",
       "      <th>132232</th>\n",
       "      <td>132233</td>\n",
       "      <td>Jeanne M Seyler</td>\n",
       "      <td>Captain, Fire Suppression</td>\n",
       "      <td>61039.43</td>\n",
       "      <td>2285.30</td>\n",
       "      <td>7548.29</td>\n",
       "      <td>20113.76</td>\n",
       "      <td>70873.02</td>\n",
       "      <td>90986.78</td>\n",
       "      <td>2014</td>\n",
       "      <td>NaN</td>\n",
       "      <td>San Francisco</td>\n",
       "      <td>NaN</td>\n",
       "    </tr>\n",
       "  </tbody>\n",
       "</table>\n",
       "<p>552 rows × 13 columns</p>\n",
       "</div>"
      ],
      "text/plain": [
       "            Id        EmployeeName                               JobTitle  \\\n",
       "1            2        GARY JIMENEZ        CAPTAIN III (POLICE DEPARTMENT)   \n",
       "2            3      ALBERT PARDINI        CAPTAIN III (POLICE DEPARTMENT)   \n",
       "11          12    PATRICIA JACKSON        CAPTAIN III (POLICE DEPARTMENT)   \n",
       "17          18      SEBASTIAN WONG  CAPTAIN, EMERGENCYCY MEDICAL SERVICES   \n",
       "22          23       GEORGE GARCIA              CAPTAIN, FIRE SUPPRESSION   \n",
       "...        ...                 ...                                    ...   \n",
       "116604  116605   Gregory L Stewart              Captain, Fire Suppression   \n",
       "120867  120868     Michael J Moran                              Captain 3   \n",
       "122361  122362  Michael V Rolovich              Captain, Fire Suppression   \n",
       "126588  126589    Stephen M Tittel                              Captain 3   \n",
       "132232  132233     Jeanne M Seyler              Captain, Fire Suppression   \n",
       "\n",
       "          BasePay  OvertimePay   OtherPay  Benefits   TotalPay  \\\n",
       "1       155966.02    245131.88  137811.38       NaN  538909.28   \n",
       "2       212739.13    106088.18   16452.60       NaN  335279.91   \n",
       "11       99722.00     87082.62  110804.30       NaN  297608.92   \n",
       "17      140546.87    119397.26   18625.08       NaN  278569.21   \n",
       "22      140546.88     93200.58   39955.25       NaN  273702.71   \n",
       "...           ...          ...        ...       ...        ...   \n",
       "116604   73355.21     18517.18   49917.73  25608.77  141790.12   \n",
       "120867    7660.00      1496.09  126560.36   2189.51  135716.45   \n",
       "122361       0.00         0.00  130320.75      0.00  130320.75   \n",
       "126588   68491.89         0.00   23721.91  19020.79   92213.80   \n",
       "132232   61039.43      2285.30    7548.29  20113.76   70873.02   \n",
       "\n",
       "        TotalPayBenefits  Year  Notes         Agency  Status  \n",
       "1              538909.28  2011    NaN  San Francisco     NaN  \n",
       "2              335279.91  2011    NaN  San Francisco     NaN  \n",
       "11             297608.92  2011    NaN  San Francisco     NaN  \n",
       "17             278569.21  2011    NaN  San Francisco     NaN  \n",
       "22             273702.71  2011    NaN  San Francisco     NaN  \n",
       "...                  ...   ...    ...            ...     ...  \n",
       "116604         167398.89  2014    NaN  San Francisco     NaN  \n",
       "120867         137905.96  2014    NaN  San Francisco     NaN  \n",
       "122361         130320.75  2014    NaN  San Francisco     NaN  \n",
       "126588         111234.59  2014    NaN  San Francisco     NaN  \n",
       "132232          90986.78  2014    NaN  San Francisco     NaN  \n",
       "\n",
       "[552 rows x 13 columns]"
      ]
     },
     "execution_count": 34,
     "metadata": {},
     "output_type": "execute_result"
    }
   ],
   "source": [
    "captain_titles"
   ]
  },
  {
   "cell_type": "code",
   "execution_count": null,
   "id": "00c178a1-fa86-42ea-a6d0-3672ab1b649a",
   "metadata": {},
   "outputs": [
    {
     "name": "stdout",
     "output_type": "stream",
     "text": [
      "Column names in the dataset:\n",
      "Index(['Id', 'EmployeeName', 'JobTitle', 'BasePay', 'OvertimePay', 'OtherPay',\n",
      "       'Benefits', 'TotalPay', 'TotalPayBenefits', 'Year', 'Notes', 'Agency',\n",
      "       'Status'],\n",
      "      dtype='object')\n"
     ]
    }
   ],
   "source": [
    "print(\"Column names in the dataset:\")\n",
    "print(df.columns)"
   ]
  },
  {
   "cell_type": "code",
   "execution_count": null,
   "id": "21935d3d-376b-4a32-8e5e-18550dfbb7ab",
   "metadata": {},
   "outputs": [],
   "source": [
    "min_base_pay = df['BasePay'].min()"
   ]
  },
  {
   "cell_type": "code",
   "execution_count": null,
   "id": "95edfbf4-98f2-42e7-8066-1e6281eaff50",
   "metadata": {},
   "outputs": [
    {
     "name": "stdout",
     "output_type": "stream",
     "text": [
      "-166.01\n"
     ]
    }
   ],
   "source": [
    "print (min_base_pay)"
   ]
  },
  {
   "cell_type": "code",
   "execution_count": null,
   "id": "49e16d1f-1df0-4345-84c4-4181a6a6ef94",
   "metadata": {},
   "outputs": [],
   "source": [
    "max_base_pay = df['BasePay'].max()"
   ]
  },
  {
   "cell_type": "code",
   "execution_count": null,
   "id": "eef8aa09-a9c7-47af-969d-d39cd7ffa25c",
   "metadata": {},
   "outputs": [
    {
     "name": "stdout",
     "output_type": "stream",
     "text": [
      "319275.01\n"
     ]
    }
   ],
   "source": [
    "print (max_base_pay)"
   ]
  },
  {
   "cell_type": "code",
   "execution_count": null,
   "id": "0406fd43-8f87-4cae-a7b6-d2d9c8da0a32",
   "metadata": {},
   "outputs": [],
   "source": [
    "avg_base_pay = df['BasePay'].mean()"
   ]
  },
  {
   "cell_type": "code",
   "execution_count": null,
   "id": "8759dc5a-0640-4eeb-8bea-6209b428eef9",
   "metadata": {},
   "outputs": [
    {
     "name": "stdout",
     "output_type": "stream",
     "text": [
      "66325.4488404877\n"
     ]
    }
   ],
   "source": [
    "print (avg_base_pay)"
   ]
  },
  {
   "cell_type": "code",
   "execution_count": null,
   "id": "7b407bc9-5f7b-48ca-a94e-d5767648e3a2",
   "metadata": {},
   "outputs": [],
   "source": [
    "df['EmployeeName'] = df['EmployeeName'].replace('Not provided', np.nan)"
   ]
  },
  {
   "cell_type": "code",
   "execution_count": null,
   "id": "be25f7c6-1a33-41c6-88cf-24b09088b116",
   "metadata": {},
   "outputs": [
    {
     "name": "stdout",
     "output_type": "stream",
     "text": [
      "            Id       EmployeeName  \\\n",
      "0            1     NATHANIEL FORD   \n",
      "1            2       GARY JIMENEZ   \n",
      "2            3     ALBERT PARDINI   \n",
      "3            4  CHRISTOPHER CHONG   \n",
      "4            5    PATRICK GARDNER   \n",
      "...        ...                ...   \n",
      "148649  148650      Roy I Tillery   \n",
      "148650  148651                NaN   \n",
      "148651  148652                NaN   \n",
      "148652  148653                NaN   \n",
      "148653  148654          Joe Lopez   \n",
      "\n",
      "                                              JobTitle    BasePay  \\\n",
      "0       GENERAL MANAGER-METROPOLITAN TRANSIT AUTHORITY  167411.18   \n",
      "1                      CAPTAIN III (POLICE DEPARTMENT)  155966.02   \n",
      "2                      CAPTAIN III (POLICE DEPARTMENT)  212739.13   \n",
      "3                 WIRE ROPE CABLE MAINTENANCE MECHANIC   77916.00   \n",
      "4         DEPUTY CHIEF OF DEPARTMENT,(FIRE DEPARTMENT)  134401.60   \n",
      "...                                                ...        ...   \n",
      "148649                                       Custodian       0.00   \n",
      "148650                                    Not provided        NaN   \n",
      "148651                                    Not provided        NaN   \n",
      "148652                                    Not provided        NaN   \n",
      "148653                      Counselor, Log Cabin Ranch       0.00   \n",
      "\n",
      "        OvertimePay   OtherPay  Benefits   TotalPay  TotalPayBenefits  Year  \\\n",
      "0              0.00  400184.25       NaN  567595.43         567595.43  2011   \n",
      "1         245131.88  137811.38       NaN  538909.28         538909.28  2011   \n",
      "2         106088.18   16452.60       NaN  335279.91         335279.91  2011   \n",
      "3          56120.71  198306.90       NaN  332343.61         332343.61  2011   \n",
      "4           9737.00  182234.59       NaN  326373.19         326373.19  2011   \n",
      "...             ...        ...       ...        ...               ...   ...   \n",
      "148649         0.00       0.00       0.0       0.00              0.00  2014   \n",
      "148650          NaN        NaN       NaN       0.00              0.00  2014   \n",
      "148651          NaN        NaN       NaN       0.00              0.00  2014   \n",
      "148652          NaN        NaN       NaN       0.00              0.00  2014   \n",
      "148653         0.00    -618.13       0.0    -618.13           -618.13  2014   \n",
      "\n",
      "        Notes         Agency  Status  \n",
      "0         NaN  San Francisco     NaN  \n",
      "1         NaN  San Francisco     NaN  \n",
      "2         NaN  San Francisco     NaN  \n",
      "3         NaN  San Francisco     NaN  \n",
      "4         NaN  San Francisco     NaN  \n",
      "...       ...            ...     ...  \n",
      "148649    NaN  San Francisco     NaN  \n",
      "148650    NaN  San Francisco     NaN  \n",
      "148651    NaN  San Francisco     NaN  \n",
      "148652    NaN  San Francisco     NaN  \n",
      "148653    NaN  San Francisco     NaN  \n",
      "\n",
      "[148654 rows x 13 columns]\n"
     ]
    }
   ],
   "source": [
    "print(df)"
   ]
  },
  {
   "cell_type": "code",
   "execution_count": null,
   "id": "324937ca-179d-4333-a589-924c1d7fa86a",
   "metadata": {},
   "outputs": [],
   "source": [
    "df_dropped = df.dropna(thresh=df.shape[1]-5+1)"
   ]
  },
  {
   "cell_type": "code",
   "execution_count": null,
   "id": "cc44bc39-df90-4a24-aaf0-a8771a0fb86b",
   "metadata": {},
   "outputs": [
    {
     "name": "stdout",
     "output_type": "stream",
     "text": [
      "            Id       EmployeeName  \\\n",
      "0            1     NATHANIEL FORD   \n",
      "1            2       GARY JIMENEZ   \n",
      "2            3     ALBERT PARDINI   \n",
      "3            4  CHRISTOPHER CHONG   \n",
      "4            5    PATRICK GARDNER   \n",
      "...        ...                ...   \n",
      "148645  148646   Carolyn A Wilson   \n",
      "148647  148648     Joann Anderson   \n",
      "148648  148649        Leon Walker   \n",
      "148649  148650      Roy I Tillery   \n",
      "148653  148654          Joe Lopez   \n",
      "\n",
      "                                              JobTitle    BasePay  \\\n",
      "0       GENERAL MANAGER-METROPOLITAN TRANSIT AUTHORITY  167411.18   \n",
      "1                      CAPTAIN III (POLICE DEPARTMENT)  155966.02   \n",
      "2                      CAPTAIN III (POLICE DEPARTMENT)  212739.13   \n",
      "3                 WIRE ROPE CABLE MAINTENANCE MECHANIC   77916.00   \n",
      "4         DEPUTY CHIEF OF DEPARTMENT,(FIRE DEPARTMENT)  134401.60   \n",
      "...                                                ...        ...   \n",
      "148645                       Human Services Technician       0.00   \n",
      "148647                     Communications Dispatcher 2       0.00   \n",
      "148648                                       Custodian       0.00   \n",
      "148649                                       Custodian       0.00   \n",
      "148653                      Counselor, Log Cabin Ranch       0.00   \n",
      "\n",
      "        OvertimePay   OtherPay  Benefits   TotalPay  TotalPayBenefits  Year  \\\n",
      "0              0.00  400184.25       NaN  567595.43         567595.43  2011   \n",
      "1         245131.88  137811.38       NaN  538909.28         538909.28  2011   \n",
      "2         106088.18   16452.60       NaN  335279.91         335279.91  2011   \n",
      "3          56120.71  198306.90       NaN  332343.61         332343.61  2011   \n",
      "4           9737.00  182234.59       NaN  326373.19         326373.19  2011   \n",
      "...             ...        ...       ...        ...               ...   ...   \n",
      "148645         0.00       0.00       0.0       0.00              0.00  2014   \n",
      "148647         0.00       0.00       0.0       0.00              0.00  2014   \n",
      "148648         0.00       0.00       0.0       0.00              0.00  2014   \n",
      "148649         0.00       0.00       0.0       0.00              0.00  2014   \n",
      "148653         0.00    -618.13       0.0    -618.13           -618.13  2014   \n",
      "\n",
      "        Notes         Agency  Status  \n",
      "0         NaN  San Francisco     NaN  \n",
      "1         NaN  San Francisco     NaN  \n",
      "2         NaN  San Francisco     NaN  \n",
      "3         NaN  San Francisco     NaN  \n",
      "4         NaN  San Francisco     NaN  \n",
      "...       ...            ...     ...  \n",
      "148645    NaN  San Francisco     NaN  \n",
      "148647    NaN  San Francisco     NaN  \n",
      "148648    NaN  San Francisco     NaN  \n",
      "148649    NaN  San Francisco     NaN  \n",
      "148653    NaN  San Francisco     NaN  \n",
      "\n",
      "[148650 rows x 13 columns]\n"
     ]
    }
   ],
   "source": [
    "print(df_dropped)"
   ]
  },
  {
   "cell_type": "code",
   "execution_count": null,
   "id": "34710d72-204e-4a32-8467-3b958335f4cf",
   "metadata": {},
   "outputs": [],
   "source": [
    "albert_row = df[df['EmployeeName'] == 'ALBERT PARDINI']"
   ]
  },
  {
   "cell_type": "code",
   "execution_count": null,
   "id": "81068f67-2324-4df8-9318-9cabf84045e7",
   "metadata": {},
   "outputs": [
    {
     "name": "stdout",
     "output_type": "stream",
     "text": [
      "Job Title of ALBERT PARDINI: CAPTAIN III (POLICE DEPARTMENT)\n"
     ]
    }
   ],
   "source": [
    "job_title = albert_row['JobTitle'].values[0]\n",
    "print(\"Job Title of ALBERT PARDINI:\", job_title)"
   ]
  },
  {
   "cell_type": "code",
   "execution_count": null,
   "id": "db97f3ae-da2e-4d09-81ed-0008a54e6fdf",
   "metadata": {},
   "outputs": [
    {
     "name": "stdout",
     "output_type": "stream",
     "text": [
      "Total pay for ALBERT PARDINI (including benefits): nan\n"
     ]
    }
   ],
   "source": [
    "base_pay = albert_row['BasePay'].values[0]\n",
    "benefits = albert_row['Benefits'].values[0]\n",
    "total_pay = base_pay + benefits\n",
    "print(\"Total pay for ALBERT PARDINI (including benefits):\", total_pay)"
   ]
  },
  {
   "cell_type": "code",
   "execution_count": null,
   "id": "2ec16760-ad2f-430c-bdfb-644512f408ef",
   "metadata": {},
   "outputs": [],
   "source": [
    "max_base_pay_index = df['BasePay'].idxmax()"
   ]
  },
  {
   "cell_type": "code",
   "execution_count": null,
   "id": "c53338f1-3349-45d1-b5c3-f4dd3034ee53",
   "metadata": {},
   "outputs": [],
   "source": [
    "name_highest_base_pay = df.loc[max_base_pay_index, 'EmployeeName']"
   ]
  },
  {
   "cell_type": "code",
   "execution_count": null,
   "id": "8e17dc49-37b7-495d-95c1-63c234160e92",
   "metadata": {},
   "outputs": [
    {
     "name": "stdout",
     "output_type": "stream",
     "text": [
      "Person with the highest BasePay: Gregory P Suhr\n"
     ]
    }
   ],
   "source": [
    "print(\"Person with the highest BasePay:\", name_highest_base_pay)"
   ]
  },
  {
   "cell_type": "code",
   "execution_count": null,
   "id": "b0a5a39e-300c-48a7-990f-584a1f9578ff",
   "metadata": {},
   "outputs": [],
   "source": [
    "average_basepay_per_year = df.groupby('Year')['BasePay'].mean()"
   ]
  },
  {
   "cell_type": "code",
   "execution_count": null,
   "id": "150ce32b-fd62-47d9-89f4-d5f9e8897978",
   "metadata": {},
   "outputs": [
    {
     "name": "stdout",
     "output_type": "stream",
     "text": [
      "Average BasePay per year:\n",
      "Year\n",
      "2011    63595.956517\n",
      "2012    65436.406857\n",
      "2013    69630.030216\n",
      "2014    66564.421924\n",
      "Name: BasePay, dtype: float64\n"
     ]
    }
   ],
   "source": [
    "print(\"Average BasePay per year:\")\n",
    "print(average_basepay_per_year)"
   ]
  },
  {
   "cell_type": "code",
   "execution_count": null,
   "id": "64d2b978-e76c-431f-88b5-aba68475d42d",
   "metadata": {},
   "outputs": [],
   "source": [
    "average_basepay_per_job_title = df.groupby('JobTitle')['BasePay'].mean()"
   ]
  },
  {
   "cell_type": "code",
   "execution_count": null,
   "id": "a62a0c42-21fe-4ba4-aa64-346e91d171b7",
   "metadata": {},
   "outputs": [
    {
     "name": "stdout",
     "output_type": "stream",
     "text": [
      "Average BasePay per job title:\n",
      "JobTitle\n",
      "ACCOUNT CLERK                                     43300.806506\n",
      "ACCOUNTANT                                        46643.172000\n",
      "ACCOUNTANT INTERN                                 28732.663958\n",
      "ACPO,JuvP, Juv Prob (SFERS)                       62290.780000\n",
      "ACUPUNCTURIST                                     66374.400000\n",
      "                                                      ...     \n",
      "X-RAY LABORATORY AIDE                             47664.773077\n",
      "X-Ray Laboratory Aide                             46086.387100\n",
      "YOUTH COMMISSION ADVISOR, BOARD OF SUPERVISORS    52609.910000\n",
      "Youth Comm Advisor                                39077.957500\n",
      "ZOO CURATOR                                       43148.000000\n",
      "Name: BasePay, Length: 2159, dtype: float64\n"
     ]
    }
   ],
   "source": [
    "\n",
    "print(\"Average BasePay per job title:\")\n",
    "print(average_basepay_per_job_title)"
   ]
  },
  {
   "cell_type": "code",
   "execution_count": null,
   "id": "25223144-99bf-4eee-9562-3bd051a45919",
   "metadata": {},
   "outputs": [],
   "source": [
    "accountant_data = df[df['JobTitle'] == 'Accountant']"
   ]
  },
  {
   "cell_type": "code",
   "execution_count": null,
   "id": "f14acb6f-ae1b-49d9-9e25-bc9f434635b3",
   "metadata": {},
   "outputs": [
    {
     "name": "stdout",
     "output_type": "stream",
     "text": [
      "Average BasePay of employees with job title 'Accountant': nan\n"
     ]
    }
   ],
   "source": [
    "average_basepay_accountant = accountant_data['BasePay'].mean()\n",
    "print(\"Average BasePay of employees with job title 'Accountant':\", average_basepay_accountant)"
   ]
  },
  {
   "cell_type": "code",
   "execution_count": null,
   "id": "19e173ca-3d17-4b53-9726-97a3fa829a7f",
   "metadata": {},
   "outputs": [
    {
     "name": "stdout",
     "output_type": "stream",
     "text": [
      "Five most common job titles:\n",
      "JobTitle\n",
      "Transit Operator                7036\n",
      "Special Nurse                   4389\n",
      "Registered Nurse                3736\n",
      "Public Svc Aide-Public Works    2518\n",
      "Police Officer 3                2421\n",
      "Name: count, dtype: int64\n"
     ]
    }
   ],
   "source": [
    "top_five_jobs = df['JobTitle'].value_counts().head(5)\n",
    "print(\"Five most common job titles:\")\n",
    "print(top_five_jobs)"
   ]
  },
  {
   "cell_type": "code",
   "execution_count": null,
   "id": "a3655fb1-5b00-4f87-9f50-b188d93a9614",
   "metadata": {},
   "outputs": [],
   "source": []
  }
 ],
 "metadata": {
  "kernelspec": {
   "display_name": "Python 3 (ipykernel)",
   "language": "python",
   "name": "python3"
  },
  "language_info": {
   "codemirror_mode": {
    "name": "ipython",
    "version": 3
   },
   "file_extension": ".py",
   "mimetype": "text/x-python",
   "name": "python",
   "nbconvert_exporter": "python",
   "pygments_lexer": "ipython3",
   "version": "3.11.8"
  }
 },
 "nbformat": 4,
 "nbformat_minor": 5
}
